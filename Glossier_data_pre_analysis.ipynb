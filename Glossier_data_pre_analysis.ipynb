{
 "cells": [
  {
   "cell_type": "code",
   "execution_count": 1,
   "metadata": {},
   "outputs": [],
   "source": [
    "import json"
   ]
  },
  {
   "cell_type": "raw",
   "metadata": {},
   "source": [
    "At First, check one input file"
   ]
  },
  {
   "cell_type": "code",
   "execution_count": 3,
   "metadata": {},
   "outputs": [],
   "source": [
    "path='/Users/shufang/Documents/Insight_fellow/Glossier_oa/data/2017-10-30.json'"
   ]
  },
  {
   "cell_type": "code",
   "execution_count": 4,
   "metadata": {},
   "outputs": [],
   "source": [
    "with open(path) as json_file:  \n",
    "    data = json.load(json_file)"
   ]
  },
  {
   "cell_type": "code",
   "execution_count": 5,
   "metadata": {},
   "outputs": [
    {
     "data": {
      "text/plain": [
       "dict"
      ]
     },
     "execution_count": 5,
     "metadata": {},
     "output_type": "execute_result"
    }
   ],
   "source": [
    "type(data)"
   ]
  },
  {
   "cell_type": "code",
   "execution_count": 6,
   "metadata": {},
   "outputs": [
    {
     "data": {
      "text/plain": [
       "1"
      ]
     },
     "execution_count": 6,
     "metadata": {},
     "output_type": "execute_result"
    }
   ],
   "source": [
    "len(data)"
   ]
  },
  {
   "cell_type": "code",
   "execution_count": 7,
   "metadata": {},
   "outputs": [
    {
     "data": {
      "text/plain": [
       "list"
      ]
     },
     "execution_count": 7,
     "metadata": {},
     "output_type": "execute_result"
    }
   ],
   "source": [
    "type(data['orders'])"
   ]
  },
  {
   "cell_type": "code",
   "execution_count": 8,
   "metadata": {},
   "outputs": [
    {
     "data": {
      "text/plain": [
       "27"
      ]
     },
     "execution_count": 8,
     "metadata": {},
     "output_type": "execute_result"
    }
   ],
   "source": [
    "len(data['orders'])"
   ]
  },
  {
   "cell_type": "code",
   "execution_count": 9,
   "metadata": {},
   "outputs": [
    {
     "data": {
      "text/plain": [
       "dict"
      ]
     },
     "execution_count": 9,
     "metadata": {},
     "output_type": "execute_result"
    }
   ],
   "source": [
    "type(data['orders'][0])"
   ]
  },
  {
   "cell_type": "code",
   "execution_count": 10,
   "metadata": {},
   "outputs": [
    {
     "data": {
      "text/plain": [
       "51"
      ]
     },
     "execution_count": 10,
     "metadata": {},
     "output_type": "execute_result"
    }
   ],
   "source": [
    "len(data['orders'][0])"
   ]
  },
  {
   "cell_type": "code",
   "execution_count": 11,
   "metadata": {},
   "outputs": [
    {
     "data": {
      "text/plain": [
       "{'id': 11748933635,\n",
       " 'email': 'censored@censored.com',\n",
       " 'closed_at': None,\n",
       " 'created_at': '2017-10-30T19:58:29-04:00',\n",
       " 'updated_at': '2017-10-30T19:59:30-04:00',\n",
       " 'number': 97171,\n",
       " 'note': None,\n",
       " 'token': 'censored',\n",
       " 'gateway': 'cash',\n",
       " 'test': False,\n",
       " 'total_price': '130.64999999999998',\n",
       " 'subtotal_price': '120.0',\n",
       " 'total_weight': 6,\n",
       " 'total_tax': '10.649999999999999',\n",
       " 'taxes_included': False,\n",
       " 'currency': 'USD',\n",
       " 'financial_status': 'paid',\n",
       " 'confirmed': True,\n",
       " 'total_discounts': '0.00',\n",
       " 'total_line_items_price': '120.0',\n",
       " 'cart_token': 'censored',\n",
       " 'buyer_accepts_marketing': False,\n",
       " 'name': 'GLO37-2010000000',\n",
       " 'referring_site': None,\n",
       " 'landing_site': None,\n",
       " 'cancelled_at': None,\n",
       " 'cancel_reason': None,\n",
       " 'total_price_usd': '130.64999999999998',\n",
       " 'checkout_token': 'censored',\n",
       " 'reference': '9925E904-4A8D-4520-9F2F-46B847BDE46D',\n",
       " 'user_id': 110585347,\n",
       " 'location_id': 371291,\n",
       " 'source_identifier': '371291-37-20100',\n",
       " 'source_url': None,\n",
       " 'processed_at': '2017-10-30T19:58:28-04:00',\n",
       " 'device_id': 37,\n",
       " 'phone': '555-555-5555',\n",
       " 'customer_locale': None,\n",
       " 'app_id': 129785,\n",
       " 'browser_ip': '127.0.0.1',\n",
       " 'landing_site_ref': None,\n",
       " 'order_number': 98171,\n",
       " 'processing_method': '',\n",
       " 'checkout_id': None,\n",
       " 'source_name': 'pos',\n",
       " 'fulfillment_status': 'fulfilled',\n",
       " 'tags': '',\n",
       " 'contact_email': 'censored@censored.com',\n",
       " 'order_status_url': 'https://checkout.shopify.com/censored',\n",
       " 'line_items': [{'id': 23495245827,\n",
       "   'variant_id': 36499702851,\n",
       "   'quantity': 1,\n",
       "   'product_id': 9096535107}],\n",
       " 'total_discount': None}"
      ]
     },
     "execution_count": 11,
     "metadata": {},
     "output_type": "execute_result"
    }
   ],
   "source": [
    "data['orders'][0]"
   ]
  },
  {
   "cell_type": "code",
   "execution_count": 12,
   "metadata": {},
   "outputs": [
    {
     "data": {
      "text/plain": [
       "{'id': 11740708867,\n",
       " 'email': 'censored@censored.com',\n",
       " 'closed_at': None,\n",
       " 'created_at': '2017-10-30T19:50:35-04:00',\n",
       " 'updated_at': '2017-10-30T19:50:55-04:00',\n",
       " 'number': 97170,\n",
       " 'note': None,\n",
       " 'token': 'censored',\n",
       " 'gateway': 'shopify_payments',\n",
       " 'test': False,\n",
       " 'total_price': '52.260000000000005',\n",
       " 'subtotal_price': '48.0',\n",
       " 'total_weight': 1,\n",
       " 'total_tax': '4.26',\n",
       " 'taxes_included': False,\n",
       " 'currency': 'USD',\n",
       " 'financial_status': 'paid',\n",
       " 'confirmed': True,\n",
       " 'total_discounts': '0.00',\n",
       " 'total_line_items_price': '48.0',\n",
       " 'cart_token': 'censored',\n",
       " 'buyer_accepts_marketing': False,\n",
       " 'name': 'GLO37-2009900000',\n",
       " 'referring_site': None,\n",
       " 'landing_site': None,\n",
       " 'cancelled_at': None,\n",
       " 'cancel_reason': None,\n",
       " 'total_price_usd': '52.260000000000005',\n",
       " 'checkout_token': 'censored',\n",
       " 'reference': None,\n",
       " 'user_id': 110585347,\n",
       " 'location_id': 371291,\n",
       " 'source_identifier': '371291-37-20099',\n",
       " 'source_url': None,\n",
       " 'processed_at': '2017-10-30T19:50:35-04:00',\n",
       " 'device_id': 37,\n",
       " 'phone': '555-555-5555',\n",
       " 'customer_locale': None,\n",
       " 'app_id': 129785,\n",
       " 'browser_ip': '127.0.0.1',\n",
       " 'landing_site_ref': None,\n",
       " 'order_number': 98170,\n",
       " 'processing_method': 'direct',\n",
       " 'checkout_id': 29547134979,\n",
       " 'source_name': 'pos',\n",
       " 'fulfillment_status': 'fulfilled',\n",
       " 'tags': '',\n",
       " 'contact_email': 'censored@censored.com',\n",
       " 'order_status_url': 'https://checkout.shopify.com/censored',\n",
       " 'line_items': [{'id': 23477125123,\n",
       "   'variant_id': 31894081731,\n",
       "   'quantity': 1,\n",
       "   'product_id': 9086876675}],\n",
       " 'total_discount': None}"
      ]
     },
     "execution_count": 12,
     "metadata": {},
     "output_type": "execute_result"
    }
   ],
   "source": [
    "data['orders'][1]"
   ]
  },
  {
   "cell_type": "raw",
   "metadata": {},
   "source": [
    "Check if there is empty key-value pairs"
   ]
  },
  {
   "cell_type": "code",
   "execution_count": 13,
   "metadata": {},
   "outputs": [
    {
     "name": "stdout",
     "output_type": "stream",
     "text": [
      "51\n",
      "51\n"
     ]
    }
   ],
   "source": [
    "maxl = 0\n",
    "minl = 1000\n",
    "\n",
    "for i in range(len(data['orders'])):\n",
    "    leng = len(data['orders'][i])\n",
    "    if (leng > maxl):\n",
    "        maxl = leng\n",
    "    if (leng < minl):\n",
    "        minl = leng\n",
    "        \n",
    "print(maxl)\n",
    "print(minl)"
   ]
  },
  {
   "cell_type": "raw",
   "metadata": {},
   "source": [
    "Check another input file"
   ]
  },
  {
   "cell_type": "code",
   "execution_count": 14,
   "metadata": {},
   "outputs": [],
   "source": [
    "path='/Users/shufang/Documents/Insight_fellow/Glossier_oa/data/2017-10-31.json'"
   ]
  },
  {
   "cell_type": "code",
   "execution_count": 16,
   "metadata": {},
   "outputs": [],
   "source": [
    "with open(path) as json_file:  \n",
    "    data = json.load(json_file)"
   ]
  },
  {
   "cell_type": "code",
   "execution_count": 19,
   "metadata": {},
   "outputs": [
    {
     "data": {
      "text/plain": [
       "204"
      ]
     },
     "execution_count": 19,
     "metadata": {},
     "output_type": "execute_result"
    }
   ],
   "source": [
    "len((data)['orders'])"
   ]
  },
  {
   "cell_type": "code",
   "execution_count": 20,
   "metadata": {},
   "outputs": [
    {
     "data": {
      "text/plain": [
       "51"
      ]
     },
     "execution_count": 20,
     "metadata": {},
     "output_type": "execute_result"
    }
   ],
   "source": [
    "len(data['orders'][0])"
   ]
  },
  {
   "cell_type": "code",
   "execution_count": 21,
   "metadata": {},
   "outputs": [
    {
     "name": "stdout",
     "output_type": "stream",
     "text": [
      "51\n",
      "51\n"
     ]
    }
   ],
   "source": [
    "maxl = 0\n",
    "minl = 1000\n",
    "\n",
    "for i in range(len(data['orders'])):\n",
    "    leng = len(data['orders'][i])\n",
    "    if (leng > maxl):\n",
    "        maxl = leng\n",
    "    if (leng < minl):\n",
    "        minl = leng\n",
    "        \n",
    "print(maxl)\n",
    "print(minl)"
   ]
  },
  {
   "cell_type": "raw",
   "metadata": {},
   "source": [
    "Save all the key and values for each order dictionary"
   ]
  },
  {
   "cell_type": "code",
   "execution_count": 22,
   "metadata": {},
   "outputs": [],
   "source": [
    "columns_keys = list(data['orders'][0].keys())"
   ]
  },
  {
   "cell_type": "code",
   "execution_count": 25,
   "metadata": {},
   "outputs": [
    {
     "data": {
      "text/plain": [
       "51"
      ]
     },
     "execution_count": 25,
     "metadata": {},
     "output_type": "execute_result"
    }
   ],
   "source": [
    "len(columns_keys)"
   ]
  },
  {
   "cell_type": "code",
   "execution_count": 23,
   "metadata": {},
   "outputs": [
    {
     "data": {
      "text/plain": [
       "['id',\n",
       " 'email',\n",
       " 'closed_at',\n",
       " 'created_at',\n",
       " 'updated_at',\n",
       " 'number',\n",
       " 'note',\n",
       " 'token',\n",
       " 'gateway',\n",
       " 'test',\n",
       " 'total_price',\n",
       " 'subtotal_price',\n",
       " 'total_weight',\n",
       " 'total_tax',\n",
       " 'taxes_included',\n",
       " 'currency',\n",
       " 'financial_status',\n",
       " 'confirmed',\n",
       " 'total_discounts',\n",
       " 'total_line_items_price',\n",
       " 'cart_token',\n",
       " 'buyer_accepts_marketing',\n",
       " 'name',\n",
       " 'referring_site',\n",
       " 'landing_site',\n",
       " 'cancelled_at',\n",
       " 'cancel_reason',\n",
       " 'total_price_usd',\n",
       " 'checkout_token',\n",
       " 'reference',\n",
       " 'user_id',\n",
       " 'location_id',\n",
       " 'source_identifier',\n",
       " 'source_url',\n",
       " 'processed_at',\n",
       " 'device_id',\n",
       " 'phone',\n",
       " 'customer_locale',\n",
       " 'app_id',\n",
       " 'browser_ip',\n",
       " 'landing_site_ref',\n",
       " 'order_number',\n",
       " 'processing_method',\n",
       " 'checkout_id',\n",
       " 'source_name',\n",
       " 'fulfillment_status',\n",
       " 'tags',\n",
       " 'contact_email',\n",
       " 'order_status_url',\n",
       " 'line_items',\n",
       " 'total_discount']"
      ]
     },
     "execution_count": 23,
     "metadata": {},
     "output_type": "execute_result"
    }
   ],
   "source": [
    "columns_keys"
   ]
  },
  {
   "cell_type": "code",
   "execution_count": 24,
   "metadata": {},
   "outputs": [],
   "source": [
    "columns_values = list(data['orders'][26].values())"
   ]
  },
  {
   "cell_type": "code",
   "execution_count": 26,
   "metadata": {},
   "outputs": [
    {
     "data": {
      "text/plain": [
       "51"
      ]
     },
     "execution_count": 26,
     "metadata": {},
     "output_type": "execute_result"
    }
   ],
   "source": [
    "len(columns_values)"
   ]
  },
  {
   "cell_type": "code",
   "execution_count": 27,
   "metadata": {},
   "outputs": [
    {
     "data": {
      "text/plain": [
       "[12829491203,\n",
       " 'censored@censored.com',\n",
       " None,\n",
       " '2017-10-31T18:02:49-04:00',\n",
       " '2017-10-31T18:03:26-04:00',\n",
       " 97353,\n",
       " None,\n",
       " 'censored',\n",
       " 'cash',\n",
       " False,\n",
       " '150.24',\n",
       " '138.0',\n",
       " 1,\n",
       " '12.24',\n",
       " False,\n",
       " 'USD',\n",
       " 'paid',\n",
       " True,\n",
       " '6.00',\n",
       " '156.0',\n",
       " 'censored',\n",
       " False,\n",
       " 'GLO38-1979400000',\n",
       " None,\n",
       " None,\n",
       " None,\n",
       " None,\n",
       " '150.24',\n",
       " 'censored',\n",
       " 'FDB4851E-A4F8-448E-97F0-087D96A1E3DE',\n",
       " 110817283,\n",
       " 371291,\n",
       " '371291-38-19794',\n",
       " None,\n",
       " '2017-10-31T18:02:48-04:00',\n",
       " 38,\n",
       " '555-555-5555',\n",
       " None,\n",
       " 129785,\n",
       " '127.0.0.1',\n",
       " None,\n",
       " 98353,\n",
       " '',\n",
       " None,\n",
       " 'pos',\n",
       " 'fulfilled',\n",
       " '',\n",
       " 'censored@censored.com',\n",
       " 'https://checkout.shopify.com/censored',\n",
       " [{'id': 25823182851,\n",
       "   'variant_id': 37138642627,\n",
       "   'quantity': 1,\n",
       "   'product_id': 9086871875},\n",
       "  {'id': 25823215619,\n",
       "   'variant_id': 37138628419,\n",
       "   'quantity': 1,\n",
       "   'product_id': 9086871875},\n",
       "  {'id': 25823248387,\n",
       "   'variant_id': 37138650307,\n",
       "   'quantity': 1,\n",
       "   'product_id': 9086871875},\n",
       "  {'id': 25823281155,\n",
       "   'variant_id': 31894081987,\n",
       "   'quantity': 1,\n",
       "   'product_id': 9086876675}],\n",
       " None]"
      ]
     },
     "execution_count": 27,
     "metadata": {},
     "output_type": "execute_result"
    }
   ],
   "source": [
    "columns_values"
   ]
  },
  {
   "cell_type": "raw",
   "metadata": {},
   "source": [
    "Read in all 60 files, save it in a tuple results"
   ]
  },
  {
   "cell_type": "code",
   "execution_count": 28,
   "metadata": {},
   "outputs": [
    {
     "name": "stdout",
     "output_type": "stream",
     "text": [
      "/Users/shufang/Documents/Insight_fellow/glossiler_oa/data/2017-10-30.json\n",
      "/Users/shufang/Documents/Insight_fellow/glossiler_oa/data/2017-10-31.json\n",
      "/Users/shufang/Documents/Insight_fellow/glossiler_oa/data/2017-11-01.json\n",
      "/Users/shufang/Documents/Insight_fellow/glossiler_oa/data/2017-11-02.json\n",
      "/Users/shufang/Documents/Insight_fellow/glossiler_oa/data/2017-11-03.json\n",
      "/Users/shufang/Documents/Insight_fellow/glossiler_oa/data/2017-11-04.json\n",
      "/Users/shufang/Documents/Insight_fellow/glossiler_oa/data/2017-11-05.json\n",
      "/Users/shufang/Documents/Insight_fellow/glossiler_oa/data/2017-11-06.json\n",
      "/Users/shufang/Documents/Insight_fellow/glossiler_oa/data/2017-11-07.json\n",
      "/Users/shufang/Documents/Insight_fellow/glossiler_oa/data/2017-11-08.json\n",
      "/Users/shufang/Documents/Insight_fellow/glossiler_oa/data/2017-11-09.json\n",
      "/Users/shufang/Documents/Insight_fellow/glossiler_oa/data/2017-11-10.json\n",
      "/Users/shufang/Documents/Insight_fellow/glossiler_oa/data/2017-11-11.json\n",
      "/Users/shufang/Documents/Insight_fellow/glossiler_oa/data/2017-11-12.json\n",
      "/Users/shufang/Documents/Insight_fellow/glossiler_oa/data/2017-11-13.json\n",
      "/Users/shufang/Documents/Insight_fellow/glossiler_oa/data/2017-11-14.json\n",
      "/Users/shufang/Documents/Insight_fellow/glossiler_oa/data/2017-11-15.json\n",
      "/Users/shufang/Documents/Insight_fellow/glossiler_oa/data/2017-11-16.json\n",
      "/Users/shufang/Documents/Insight_fellow/glossiler_oa/data/2017-11-17.json\n",
      "/Users/shufang/Documents/Insight_fellow/glossiler_oa/data/2017-11-18.json\n",
      "/Users/shufang/Documents/Insight_fellow/glossiler_oa/data/2017-11-19.json\n",
      "/Users/shufang/Documents/Insight_fellow/glossiler_oa/data/2017-11-20.json\n",
      "/Users/shufang/Documents/Insight_fellow/glossiler_oa/data/2017-11-21.json\n",
      "/Users/shufang/Documents/Insight_fellow/glossiler_oa/data/2017-11-22.json\n",
      "/Users/shufang/Documents/Insight_fellow/glossiler_oa/data/2017-11-24.json\n",
      "/Users/shufang/Documents/Insight_fellow/glossiler_oa/data/2017-11-25.json\n",
      "/Users/shufang/Documents/Insight_fellow/glossiler_oa/data/2017-11-26.json\n",
      "/Users/shufang/Documents/Insight_fellow/glossiler_oa/data/2017-11-27.json\n",
      "/Users/shufang/Documents/Insight_fellow/glossiler_oa/data/2017-11-28.json\n",
      "/Users/shufang/Documents/Insight_fellow/glossiler_oa/data/2017-11-29.json\n",
      "/Users/shufang/Documents/Insight_fellow/glossiler_oa/data/2017-11-30.json\n",
      "/Users/shufang/Documents/Insight_fellow/glossiler_oa/data/2017-12-01.json\n",
      "/Users/shufang/Documents/Insight_fellow/glossiler_oa/data/2017-12-02.json\n",
      "/Users/shufang/Documents/Insight_fellow/glossiler_oa/data/2017-12-03.json\n",
      "/Users/shufang/Documents/Insight_fellow/glossiler_oa/data/2017-12-04.json\n",
      "/Users/shufang/Documents/Insight_fellow/glossiler_oa/data/2017-12-05.json\n",
      "/Users/shufang/Documents/Insight_fellow/glossiler_oa/data/2017-12-06.json\n",
      "/Users/shufang/Documents/Insight_fellow/glossiler_oa/data/2017-12-07.json\n",
      "/Users/shufang/Documents/Insight_fellow/glossiler_oa/data/2017-12-08.json\n",
      "/Users/shufang/Documents/Insight_fellow/glossiler_oa/data/2017-12-09.json\n",
      "/Users/shufang/Documents/Insight_fellow/glossiler_oa/data/2017-12-10.json\n",
      "/Users/shufang/Documents/Insight_fellow/glossiler_oa/data/2017-12-11.json\n",
      "/Users/shufang/Documents/Insight_fellow/glossiler_oa/data/2017-12-12.json\n",
      "/Users/shufang/Documents/Insight_fellow/glossiler_oa/data/2017-12-13.json\n",
      "/Users/shufang/Documents/Insight_fellow/glossiler_oa/data/2017-12-14.json\n",
      "/Users/shufang/Documents/Insight_fellow/glossiler_oa/data/2017-12-15.json\n",
      "/Users/shufang/Documents/Insight_fellow/glossiler_oa/data/2017-12-16.json\n",
      "/Users/shufang/Documents/Insight_fellow/glossiler_oa/data/2017-12-17.json\n",
      "/Users/shufang/Documents/Insight_fellow/glossiler_oa/data/2017-12-18.json\n",
      "/Users/shufang/Documents/Insight_fellow/glossiler_oa/data/2017-12-19.json\n",
      "/Users/shufang/Documents/Insight_fellow/glossiler_oa/data/2017-12-20.json\n",
      "/Users/shufang/Documents/Insight_fellow/glossiler_oa/data/2017-12-21.json\n",
      "/Users/shufang/Documents/Insight_fellow/glossiler_oa/data/2017-12-22.json\n",
      "/Users/shufang/Documents/Insight_fellow/glossiler_oa/data/2017-12-23.json\n",
      "/Users/shufang/Documents/Insight_fellow/glossiler_oa/data/2017-12-24.json\n",
      "/Users/shufang/Documents/Insight_fellow/glossiler_oa/data/2017-12-26.json\n",
      "/Users/shufang/Documents/Insight_fellow/glossiler_oa/data/2017-12-27.json\n",
      "/Users/shufang/Documents/Insight_fellow/glossiler_oa/data/2017-12-28.json\n",
      "/Users/shufang/Documents/Insight_fellow/glossiler_oa/data/2017-12-29.json\n",
      "/Users/shufang/Documents/Insight_fellow/glossiler_oa/data/2017-12-30.json\n"
     ]
    }
   ],
   "source": [
    "path='/Users/shufang/Documents/Insight_fellow/Glossier_oa/data/2017-'\n",
    "results = ()\n",
    "for i in range(10,13):\n",
    "    month = '{0:02}'.format(i)\n",
    "    for j in range(1, 32):\n",
    "        if(i == 10 and j < 30): continue\n",
    "        if(i > 10 and j > 30): continue\n",
    "        if(i == 11 and j == 23): continue\n",
    "        if(i == 12 and j == 25): continue\n",
    "        day = '{0:02}'.format(j)\n",
    "        filename = path + month + '-' + day + '.json'\n",
    "        print(filename)\n",
    "        with open(filename) as json_file:  \n",
    "            data = json.load(json_file)\n",
    "            results = results + (data,)"
   ]
  },
  {
   "cell_type": "code",
   "execution_count": 29,
   "metadata": {},
   "outputs": [
    {
     "data": {
      "text/plain": [
       "tuple"
      ]
     },
     "execution_count": 29,
     "metadata": {},
     "output_type": "execute_result"
    }
   ],
   "source": [
    "type(results)"
   ]
  },
  {
   "cell_type": "code",
   "execution_count": 30,
   "metadata": {},
   "outputs": [
    {
     "data": {
      "text/plain": [
       "60"
      ]
     },
     "execution_count": 30,
     "metadata": {},
     "output_type": "execute_result"
    }
   ],
   "source": [
    "len(results)"
   ]
  },
  {
   "cell_type": "code",
   "execution_count": 31,
   "metadata": {},
   "outputs": [
    {
     "data": {
      "text/plain": [
       "27"
      ]
     },
     "execution_count": 31,
     "metadata": {},
     "output_type": "execute_result"
    }
   ],
   "source": [
    "len(results[0]['orders'])"
   ]
  },
  {
   "cell_type": "raw",
   "metadata": {},
   "source": [
    "find out the min and max column numbers(51) and the total order numbers"
   ]
  },
  {
   "cell_type": "code",
   "execution_count": 34,
   "metadata": {},
   "outputs": [
    {
     "name": "stdout",
     "output_type": "stream",
     "text": [
      "51\n",
      "51\n",
      "25000\n"
     ]
    }
   ],
   "source": [
    "max_col = 0\n",
    "min_col = 1000\n",
    "total_count = 0\n",
    "for k in range(len(results)):\n",
    "    data = results[k]\n",
    "    for i in range(len(data['orders'])):\n",
    "        leng = len(data['orders'][i])\n",
    "        total_count +=1\n",
    "        if (leng > max_col):\n",
    "            max_col = leng\n",
    "        if (leng < min_col):\n",
    "            min_col = leng\n",
    "        \n",
    "print(max_col)\n",
    "print(min_col)\n",
    "print(total_count)"
   ]
  },
  {
   "cell_type": "code",
   "execution_count": 35,
   "metadata": {},
   "outputs": [
    {
     "data": {
      "text/plain": [
       "{'id': 11748933635,\n",
       " 'email': 'censored@censored.com',\n",
       " 'closed_at': None,\n",
       " 'created_at': '2017-10-30T19:58:29-04:00',\n",
       " 'updated_at': '2017-10-30T19:59:30-04:00',\n",
       " 'number': 97171,\n",
       " 'note': None,\n",
       " 'token': 'censored',\n",
       " 'gateway': 'cash',\n",
       " 'test': False,\n",
       " 'total_price': '130.64999999999998',\n",
       " 'subtotal_price': '120.0',\n",
       " 'total_weight': 6,\n",
       " 'total_tax': '10.649999999999999',\n",
       " 'taxes_included': False,\n",
       " 'currency': 'USD',\n",
       " 'financial_status': 'paid',\n",
       " 'confirmed': True,\n",
       " 'total_discounts': '0.00',\n",
       " 'total_line_items_price': '120.0',\n",
       " 'cart_token': 'censored',\n",
       " 'buyer_accepts_marketing': False,\n",
       " 'name': 'GLO37-2010000000',\n",
       " 'referring_site': None,\n",
       " 'landing_site': None,\n",
       " 'cancelled_at': None,\n",
       " 'cancel_reason': None,\n",
       " 'total_price_usd': '130.64999999999998',\n",
       " 'checkout_token': 'censored',\n",
       " 'reference': '9925E904-4A8D-4520-9F2F-46B847BDE46D',\n",
       " 'user_id': 110585347,\n",
       " 'location_id': 371291,\n",
       " 'source_identifier': '371291-37-20100',\n",
       " 'source_url': None,\n",
       " 'processed_at': '2017-10-30T19:58:28-04:00',\n",
       " 'device_id': 37,\n",
       " 'phone': '555-555-5555',\n",
       " 'customer_locale': None,\n",
       " 'app_id': 129785,\n",
       " 'browser_ip': '127.0.0.1',\n",
       " 'landing_site_ref': None,\n",
       " 'order_number': 98171,\n",
       " 'processing_method': '',\n",
       " 'checkout_id': None,\n",
       " 'source_name': 'pos',\n",
       " 'fulfillment_status': 'fulfilled',\n",
       " 'tags': '',\n",
       " 'contact_email': 'censored@censored.com',\n",
       " 'order_status_url': 'https://checkout.shopify.com/censored',\n",
       " 'line_items': [{'id': 23495245827,\n",
       "   'variant_id': 36499702851,\n",
       "   'quantity': 1,\n",
       "   'product_id': 9096535107}],\n",
       " 'total_discount': None}"
      ]
     },
     "execution_count": 35,
     "metadata": {},
     "output_type": "execute_result"
    }
   ],
   "source": [
    "results[0]['orders'][0]"
   ]
  },
  {
   "cell_type": "markdown",
   "metadata": {},
   "source": [
    "Check the 51 columns, check dupilications and empty values"
   ]
  },
  {
   "cell_type": "code",
   "execution_count": 36,
   "metadata": {},
   "outputs": [],
   "source": [
    "count = [0 for j in range(51)] \n",
    "for k in range(len(results)):\n",
    "    data = results[k]\n",
    "    for i in range(len(data['orders'])):\n",
    "        leng = len(data['orders'][i])\n",
    "        each_order = data['orders'][i]\n",
    "        for j in range(0,50):\n",
    "            if(each_order[columns_keys[j]] != columns_values[j]): count[j] +=1"
   ]
  },
  {
   "cell_type": "raw",
   "metadata": {},
   "source": [
    "List the columns with None values for all 25000 orders: there are 9 columns."
   ]
  },
  {
   "cell_type": "code",
   "execution_count": 37,
   "metadata": {},
   "outputs": [
    {
     "name": "stdout",
     "output_type": "stream",
     "text": [
      "0 Keys =  closed_at  Values =  None\n",
      "0 Keys =  referring_site  Values =  None\n",
      "0 Keys =  landing_site  Values =  None\n",
      "0 Keys =  cancelled_at  Values =  None\n",
      "0 Keys =  cancel_reason  Values =  None\n",
      "0 Keys =  source_url  Values =  None\n",
      "0 Keys =  customer_locale  Values =  None\n",
      "0 Keys =  landing_site_ref  Values =  None\n",
      "0 Keys =  total_discount  Values =  None\n"
     ]
    }
   ],
   "source": [
    "for j in range(51):\n",
    "    if(count[j] == 0 and columns_values[j] == None): \n",
    "        print(count[j], 'Keys = ', columns_keys[j], ' Values = ', columns_values[j])"
   ]
  },
  {
   "cell_type": "raw",
   "metadata": {},
   "source": [
    "List the columns with same values for all 25000 orders: there are 15 columns."
   ]
  },
  {
   "cell_type": "code",
   "execution_count": 38,
   "metadata": {},
   "outputs": [
    {
     "name": "stdout",
     "output_type": "stream",
     "text": [
      "0 Keys =  email  Values =  censored@censored.com\n",
      "0 Keys =  token  Values =  censored\n",
      "0 Keys =  taxes_included  Values =  False\n",
      "0 Keys =  currency  Values =  USD\n",
      "0 Keys =  financial_status  Values =  paid\n",
      "0 Keys =  confirmed  Values =  True\n",
      "0 Keys =  cart_token  Values =  censored\n",
      "0 Keys =  checkout_token  Values =  censored\n",
      "0 Keys =  phone  Values =  555-555-5555\n",
      "0 Keys =  app_id  Values =  129785\n",
      "0 Keys =  browser_ip  Values =  127.0.0.1\n",
      "0 Keys =  source_name  Values =  pos\n",
      "0 Keys =  tags  Values =  \n",
      "0 Keys =  contact_email  Values =  censored@censored.com\n",
      "0 Keys =  order_status_url  Values =  https://checkout.shopify.com/censored\n"
     ]
    }
   ],
   "source": [
    "for j in range(51):\n",
    "    if(count[j] == 0 and columns_values[j] != None): \n",
    "        print(count[j], 'Keys = ', columns_keys[j], ' Values = ', columns_values[j])"
   ]
  },
  {
   "cell_type": "raw",
   "metadata": {},
   "source": [
    "List other columes (27, 26 are with single values, the line_items is with value in list type, i.e., multiple values )"
   ]
  },
  {
   "cell_type": "code",
   "execution_count": 39,
   "metadata": {},
   "outputs": [
    {
     "name": "stdout",
     "output_type": "stream",
     "text": [
      "24999 Keys =  id ;   Values =  12829491203\n",
      "24999 Keys =  created_at ;   Values =  2017-10-31T18:02:49-04:00\n",
      "24999 Keys =  updated_at ;   Values =  2017-10-31T18:03:26-04:00\n",
      "24999 Keys =  number ;   Values =  97353\n",
      "    4 Keys =  note ;   Values =  None\n",
      "21972 Keys =  gateway ;   Values =  cash\n",
      "    1 Keys =  test ;   Values =  False\n",
      "24613 Keys =  total_price ;   Values =  150.24\n",
      "24548 Keys =  subtotal_price ;   Values =  138.0\n",
      "21334 Keys =  total_weight ;   Values =  1\n",
      "24613 Keys =  total_tax ;   Values =  12.24\n",
      "23276 Keys =  total_discounts ;   Values =  6.00\n",
      "24465 Keys =  total_line_items_price ;   Values =  156.0\n",
      "16117 Keys =  buyer_accepts_marketing ;   Values =  False\n",
      "24999 Keys =  name ;   Values =  GLO38-1979400000\n",
      "24613 Keys =  total_price_usd ;   Values =  150.24\n",
      "24999 Keys =  reference ;   Values =  FDB4851E-A4F8-448E-97F0-087D96A1E3DE\n",
      "24011 Keys =  user_id ;   Values =  110817283\n",
      " 3422 Keys =  location_id ;   Values =  371291\n",
      "24999 Keys =  source_identifier ;   Values =  371291-38-19794\n",
      "24999 Keys =  processed_at ;   Values =  2017-10-31T18:02:48-04:00\n",
      "18415 Keys =  device_id ;   Values =  38\n",
      "24999 Keys =  order_number ;   Values =  98353\n",
      "21940 Keys =  processing_method ;   Values =  \n",
      "21937 Keys =  checkout_id ;   Values =  None\n",
      " 2694 Keys =  fulfillment_status ;   Values =  fulfilled\n",
      "24999 Keys =  line_items ;   Values =  [{'id': 25823182851, 'variant_id': 37138642627, 'quantity': 1, 'product_id': 9086871875}, {'id': 25823215619, 'variant_id': 37138628419, 'quantity': 1, 'product_id': 9086871875}, {'id': 25823248387, 'variant_id': 37138650307, 'quantity': 1, 'product_id': 9086871875}, {'id': 25823281155, 'variant_id': 31894081987, 'quantity': 1, 'product_id': 9086876675}]\n"
     ]
    }
   ],
   "source": [
    "for j in range(51):\n",
    "    if(count[j] != 0): \n",
    "        print(\"%5d\"%  count[j], 'Keys = ', columns_keys[j], ';   Values = ', columns_values[j])"
   ]
  },
  {
   "cell_type": "raw",
   "metadata": {},
   "source": [
    "Summary: there are 51 columns in total, 9 of them are with None values, 15 of then are with same values. I will not include them in my order table.  26 of them are with normal single values, which I will include in the order table. 1 of them(line_items) is with list type value. I will put it in a different table."
   ]
  },
  {
   "cell_type": "raw",
   "metadata": {},
   "source": [
    "Find the max number of line_items Value."
   ]
  },
  {
   "cell_type": "code",
   "execution_count": 41,
   "metadata": {},
   "outputs": [
    {
     "name": "stdout",
     "output_type": "stream",
     "text": [
      "21\n"
     ]
    }
   ],
   "source": [
    "max_count_line_items = 0\n",
    "for k in range(len(results)):\n",
    "    data = results[k]\n",
    "    for i in range(len(data['orders'])):\n",
    "        leng = len(data['orders'][i])\n",
    "        each_order = data['orders'][i]\n",
    "        if(len(each_order['line_items']) > max_count_line_items ): \n",
    "            max_count_line_items = len(each_order['line_items'])\n",
    "print(max_count_line_items)"
   ]
  },
  {
   "cell_type": "raw",
   "metadata": {},
   "source": [
    "Find the distribution(Histogram) for the number of line_items values and the total numbers"
   ]
  },
  {
   "cell_type": "code",
   "execution_count": 44,
   "metadata": {},
   "outputs": [
    {
     "name": "stdout",
     "output_type": "stream",
     "text": [
      " 0   0\n",
      " 1   8758\n",
      " 2   7205\n",
      " 3   4303\n",
      " 4   2197\n",
      " 5   1175\n",
      " 6   637\n",
      " 7   325\n",
      " 8   186\n",
      " 9   90\n",
      "10   49\n",
      "11   37\n",
      "12   14\n",
      "13   7\n",
      "14   7\n",
      "15   3\n",
      "16   4\n",
      "17   1\n",
      "18   0\n",
      "19   1\n",
      "20   0\n",
      "21   1\n",
      "60555\n"
     ]
    }
   ],
   "source": [
    "count_line_items = [0 for j in range(22)]\n",
    "for k in range(len(results)):\n",
    "    data = results[k]\n",
    "    for i in range(len(data['orders'])):\n",
    "        each_order = data['orders'][i] \n",
    "        len_line_items = len(each_order['line_items'])\n",
    "        j = len_line_items\n",
    "        count_line_items[j] += 1\n",
    "        if(j==21): line_items_list = each_order['line_items']\n",
    "            \n",
    "sum_count = 0\n",
    "for j in range(22):\n",
    "    print(\"%2d\"% j, ' ', count_line_items[j])\n",
    "    sum_count = sum_count + j*count_line_items[j]\n",
    "print(sum_count)"
   ]
  },
  {
   "cell_type": "raw",
   "metadata": {},
   "source": [
    "Most of the orders are with 1~5 line_items values. The total number of the line_iterms is 60555"
   ]
  },
  {
   "cell_type": "raw",
   "metadata": {},
   "source": [
    "Check the line_items values with max numbers"
   ]
  },
  {
   "cell_type": "code",
   "execution_count": 45,
   "metadata": {},
   "outputs": [
    {
     "data": {
      "text/plain": [
       "[{'id': 99211575299,\n",
       "  'variant_id': 97237598211,\n",
       "  'quantity': 1,\n",
       "  'product_id': 9979804739},\n",
       " {'id': 99211608067,\n",
       "  'variant_id': 38484206275,\n",
       "  'quantity': 2,\n",
       "  'product_id': 10238031811},\n",
       " {'id': 99211640835,\n",
       "  'variant_id': 31894081539,\n",
       "  'quantity': 1,\n",
       "  'product_id': 9086873027},\n",
       " {'id': 99211673603,\n",
       "  'variant_id': 37138642627,\n",
       "  'quantity': 1,\n",
       "  'product_id': 9086871875},\n",
       " {'id': 99211706371,\n",
       "  'variant_id': 37138656579,\n",
       "  'quantity': 1,\n",
       "  'product_id': 9086871875},\n",
       " {'id': 99211739139,\n",
       "  'variant_id': 37138628419,\n",
       "  'quantity': 1,\n",
       "  'product_id': 9086871875},\n",
       " {'id': 99211771907,\n",
       "  'variant_id': 31894081731,\n",
       "  'quantity': 3,\n",
       "  'product_id': 9086876675},\n",
       " {'id': 99211804675,\n",
       "  'variant_id': 97237696515,\n",
       "  'quantity': 1,\n",
       "  'product_id': 9979804739},\n",
       " {'id': 99211837443,\n",
       "  'variant_id': 32892389955,\n",
       "  'quantity': 1,\n",
       "  'product_id': 9251741507},\n",
       " {'id': 99211870211,\n",
       "  'variant_id': 31894085635,\n",
       "  'quantity': 1,\n",
       "  'product_id': 9086873091},\n",
       " {'id': 99211902979,\n",
       "  'variant_id': 153953468419,\n",
       "  'quantity': 1,\n",
       "  'product_id': 9092600515},\n",
       " {'id': 99211935747,\n",
       "  'variant_id': 153963200515,\n",
       "  'quantity': 1,\n",
       "  'product_id': 10892093059},\n",
       " {'id': 99211968515,\n",
       "  'variant_id': 153963069443,\n",
       "  'quantity': 1,\n",
       "  'product_id': 10892093059},\n",
       " {'id': 99212001283,\n",
       "  'variant_id': 166169346051,\n",
       "  'quantity': 1,\n",
       "  'product_id': 21495218179},\n",
       " {'id': 99212034051,\n",
       "  'variant_id': 40521796931,\n",
       "  'quantity': 1,\n",
       "  'product_id': 9086871875},\n",
       " {'id': 99212066819,\n",
       "  'variant_id': 31894055683,\n",
       "  'quantity': 1,\n",
       "  'product_id': 9086872195},\n",
       " {'id': 99212099587,\n",
       "  'variant_id': 31894085251,\n",
       "  'quantity': 1,\n",
       "  'product_id': 9086872771},\n",
       " {'id': 99212132355,\n",
       "  'variant_id': 33943756355,\n",
       "  'quantity': 1,\n",
       "  'product_id': 9092606275},\n",
       " {'id': 99212165123,\n",
       "  'variant_id': 31894505475,\n",
       "  'quantity': 1,\n",
       "  'product_id': 9110760835},\n",
       " {'id': 99212197891,\n",
       "  'variant_id': 31894085187,\n",
       "  'quantity': 1,\n",
       "  'product_id': 9086872771},\n",
       " {'id': 99212230659,\n",
       "  'variant_id': 153967853571,\n",
       "  'quantity': 1,\n",
       "  'product_id': 10776543363}]"
      ]
     },
     "execution_count": 45,
     "metadata": {},
     "output_type": "execute_result"
    }
   ],
   "source": [
    "line_items_list"
   ]
  },
  {
   "cell_type": "raw",
   "metadata": {},
   "source": [
    "Check how many different product_id in this 25000 orders:"
   ]
  },
  {
   "cell_type": "code",
   "execution_count": 51,
   "metadata": {},
   "outputs": [
    {
     "name": "stdout",
     "output_type": "stream",
     "text": [
      "43\n"
     ]
    }
   ],
   "source": [
    "from collections import defaultdict\n",
    "product_id_dic = defaultdict(int)\n",
    "for k in range(len(results)):\n",
    "    data = results[k]\n",
    "    for i in range(len(data['orders'])):\n",
    "        each_order = data['orders'][i] \n",
    "        len_line_items = len(each_order['line_items'])\n",
    "        for j in range(len_line_items):\n",
    "            jth_line_items = each_order['line_items'][j]\n",
    "            product_idd = jth_line_items['product_id']\n",
    "            quantity = jth_line_items['quantity']\n",
    "            if product_id_dic[product_idd] == 0:\n",
    "                product_id_dic[product_idd] = 1 * quantity\n",
    "            else: product_id_dic[product_idd] += 1 * quantity   \n",
    "                \n",
    "lenn = len(product_id_dic)\n",
    "print(lenn)"
   ]
  },
  {
   "cell_type": "raw",
   "metadata": {},
   "source": [
    "There are 43 different product_id, we can think there are 43 diffrent products. Then, what is the most populer products? How many products in total?"
   ]
  },
  {
   "cell_type": "code",
   "execution_count": 52,
   "metadata": {},
   "outputs": [
    {
     "name": "stdout",
     "output_type": "stream",
     "text": [
      "9096535107 1465 1465\n",
      "9086876675 8616 8616\n",
      "9086871875 13716 13716\n",
      "66306\n"
     ]
    }
   ],
   "source": [
    "maxx = 0\n",
    "sum_all = 0\n",
    "for key in list(product_id_dic.keys()):\n",
    "    value = product_id_dic[key]\n",
    "    sum_all = sum_all + value\n",
    "    if(value > maxx): \n",
    "        maxx = value\n",
    "        print(key, value, maxx)\n",
    "\n",
    "print(sum_all)"
   ]
  },
  {
   "cell_type": "raw",
   "metadata": {},
   "source": [
    "There are 66306 products in total. The most populer product is the product_id = 9086871875."
   ]
  },
  {
   "cell_type": "code",
   "execution_count": 53,
   "metadata": {},
   "outputs": [
    {
     "data": {
      "text/plain": [
       "defaultdict(int,\n",
       "            {9096535107: 1465,\n",
       "             9086876675: 8616,\n",
       "             9086871875: 13716,\n",
       "             10724240323: 812,\n",
       "             9251741507: 1380,\n",
       "             10892093059: 1818,\n",
       "             10776543363: 1487,\n",
       "             9681624963: 128,\n",
       "             9086876995: 1224,\n",
       "             10895762755: 1399,\n",
       "             9115063107: 2856,\n",
       "             9086873987: 2239,\n",
       "             9086871491: 2648,\n",
       "             9086872771: 4771,\n",
       "             9086873027: 2201,\n",
       "             9086872003: 995,\n",
       "             9086872195: 1127,\n",
       "             9591643907: 4276,\n",
       "             9110760835: 589,\n",
       "             10238031811: 923,\n",
       "             10724180163: 847,\n",
       "             9086877827: 2179,\n",
       "             9979804739: 1820,\n",
       "             9086873155: 68,\n",
       "             10873762691: 517,\n",
       "             9086871619: 859,\n",
       "             9086873091: 406,\n",
       "             9086876931: 643,\n",
       "             10873763459: 672,\n",
       "             9092600515: 466,\n",
       "             10974324355: 997,\n",
       "             9092606275: 741,\n",
       "             11015281475: 924,\n",
       "             9398113283: 95,\n",
       "             9086871427: 71,\n",
       "             10724180867: 42,\n",
       "             None: 1,\n",
       "             21495218179: 271,\n",
       "             10985482179: 1,\n",
       "             10592905539: 12,\n",
       "             10917699971: 1,\n",
       "             11023253507: 2,\n",
       "             40632647683: 1})"
      ]
     },
     "execution_count": 53,
     "metadata": {},
     "output_type": "execute_result"
    }
   ],
   "source": [
    "product_id_dic"
   ]
  },
  {
   "cell_type": "raw",
   "metadata": {},
   "source": [
    "Check the date for created_at, updated_at, processed_at "
   ]
  },
  {
   "cell_type": "code",
   "execution_count": 46,
   "metadata": {},
   "outputs": [
    {
     "name": "stdout",
     "output_type": "stream",
     "text": [
      "2017-11-01 2017-12-04 2017-11-01\n",
      "2017-11-10 2017-11-11 2017-11-10\n",
      "2017-11-10 2017-11-12 2017-11-10\n",
      "2017-11-14 2017-11-14 2017-11-13\n",
      "2017-11-15 2017-11-16 2017-11-15\n",
      "2017-11-24 2017-11-25 2017-11-24\n",
      "2017-11-25 2017-11-26 2017-11-25\n",
      "2017-11-26 2017-11-27 2017-11-26\n",
      "2017-11-26 2017-11-27 2017-11-26\n",
      "2017-11-26 2017-11-27 2017-11-26\n",
      "2017-11-26 2017-11-27 2017-11-26\n",
      "2017-11-27 2017-11-28 2017-11-27\n",
      "2017-11-27 2017-11-28 2017-11-27\n",
      "2017-12-08 2017-12-19 2017-12-08\n",
      "2017-12-13 2018-01-04 2017-12-13\n",
      "2017-12-18 2017-12-19 2017-12-18\n",
      "2017-12-18 2018-01-07 2017-12-18\n",
      "2017-12-19 2018-02-03 2017-12-19\n",
      "2017-12-27 2017-12-28 2017-12-27\n",
      "2017-12-29 2017-12-30 2017-12-29\n",
      "20\n"
     ]
    }
   ],
   "source": [
    "count = 0\n",
    "for k in range(len(results)):\n",
    "    data = results[k]\n",
    "    for i in range(len(data['orders'])):\n",
    "        leng = len(data['orders'][i])\n",
    "        each_order = data['orders'][i]\n",
    "        date1 = each_order['created_at'][0:10]\n",
    "        date2 = each_order['updated_at'][0:10]\n",
    "        date3 = each_order['processed_at'][0:10]\n",
    "        if(date1 != date2 or date1 != date3): \n",
    "            count +=1\n",
    "            print(date1, date2, date3)\n",
    "print(count)"
   ]
  },
  {
   "cell_type": "raw",
   "metadata": {},
   "source": [
    "For 25000 orders, most of the three dates are same. There are 20 orders are with differet date. I save three dates in the table, and will use the date from processed_at for futher analysis. "
   ]
  }
 ],
 "metadata": {
  "kernelspec": {
   "display_name": "Python 3",
   "language": "python",
   "name": "python3"
  },
  "language_info": {
   "codemirror_mode": {
    "name": "ipython",
    "version": 3
   },
   "file_extension": ".py",
   "mimetype": "text/x-python",
   "name": "python",
   "nbconvert_exporter": "python",
   "pygments_lexer": "ipython3",
   "version": "3.6.5"
  }
 },
 "nbformat": 4,
 "nbformat_minor": 2
}
